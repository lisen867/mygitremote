{
 "cells": [
  {
   "cell_type": "markdown",
   "metadata": {},
   "source": [
    "# 三大结构\n",
    "- 顺序\n",
    "- 分支\n",
    "- 循环"
   ]
  },
  {
   "cell_type": "markdown",
   "metadata": {},
   "source": [
    "# 分支\n",
    "-分支的基本语法\n",
    "        \n",
    "        if 条件表达式：\n",
    "            语句1\n",
    "            语句2\n",
    "            语句3\n",
    "           ......\n",
    "- 条件表达式就是计算结果必须为布尔值的表达式\n",
    "- 表达式后面的冒号不能少\n",
    "- 注意if后面出现的语句，如果属于if语句块，则必须同一个缩进等级\n",
    "- 条件表达式结果为true执行if后面缩进的语句块"
   ]
  },
  {
   "cell_type": "code",
   "execution_count": 7,
   "metadata": {},
   "outputs": [
    {
     "name": "stdout",
     "output_type": "stream",
     "text": [
      "不好意思你晋级了！\n"
     ]
    }
   ],
   "source": [
    "#if语句练习\n",
    "#如果age小于60，则打印信息\"不及格\"\n",
    "age = 61\n",
    "if  age < 60:\n",
    "    print(\"恭喜分数不够\")\n",
    "    print(\"下次再来\")\n",
    "    print(\"这次稳过\")\n",
    "    \n",
    "print(\"不好意思你晋级了！\")"
   ]
  },
  {
   "cell_type": "markdown",
   "metadata": {},
   "source": [
    "### 双向分支\n",
    "- if...else...语句\n",
    "            if 条件表达式：\n",
    "                语句1\n",
    "                语句2\n",
    "                ...\n",
    "            else：\n",
    "                语句1\n",
    "                语句2\n",
    "                ...\n",
    "- 双向分支有两个分支，当程序执行到if..else...语句的时候，一定会执行if...else...中的一个，仅执行一个\n",
    "- 缩进问题，if和else一个层级，其余语句一个层级\n",
    "- 同一语句块缩进必须一致，和另一个语句块缩进不同也可，但尽量统一"
   ]
  },
  {
   "cell_type": "markdown",
   "metadata": {},
   "source": [
    "# input的作用"
   ]
  },
  {
   "cell_type": "code",
   "execution_count": 12,
   "metadata": {},
   "outputs": [
    {
     "name": "stdout",
     "output_type": "stream",
     "text": [
      "请输入性别：nv\n",
      "你输入的性别是：nv\n",
      "发糖喽发糖喽\n",
      "女生特殊照顾\n",
      "吃完敲完开始上课喽\n"
     ]
    }
   ],
   "source": [
    "# input的作用\n",
    "# 1. 在屏幕上输出括号内的字符串\n",
    "# 2. 接受用户输入的内容并返回到程序\n",
    "# 3. input返回的内容一定是字符串类型\n",
    "gender = input(\"请输入性别：\")\n",
    "print(\"你输入的性别是：{0}\".format(gender))\n",
    "\n",
    "if gender == \"nan\":\n",
    "    print(\"来我们纪念一下今天吧，代码敲十遍\")\n",
    "else:\n",
    "    print(\"发糖喽发糖喽\")\n",
    "    print(\"女生特殊照顾\")\n",
    "        \n",
    "print(\"吃完敲完开始上课喽\")"
   ]
  },
  {
   "cell_type": "code",
   "execution_count": 19,
   "metadata": {},
   "outputs": [
    {
     "name": "stdout",
     "output_type": "stream",
     "text": [
      "请输入学生成绩：66\n",
      "D\n"
     ]
    }
   ],
   "source": [
    "# score 存放学生成绩\n",
    "# 注意input的返回值类型\n",
    "score = input(\"请输入学生成绩：\")\n",
    "# 需要把str转换成int（就是把字符串转换成数字）\n",
    "score = int(score)\n",
    "if score >= 90: \n",
    "    print(\"A\")\n",
    "if score >= 80 and score < 90:\n",
    "    print(\"B\")\n",
    "if score >= 70 and score < 80:\n",
    "    print(\"C\")\n",
    "if score >= 60 and score < 70:\n",
    "    print(\"D\")\n",
    "if score < 60:\n",
    "    print(\"走吧，往别处飞吧\")"
   ]
  },
  {
   "cell_type": "markdown",
   "metadata": {},
   "source": [
    "## 多路分支\n",
    "- 很多分支的情况，简称多路分支\n",
    "        if 条件表达式：\n",
    "            语句1\n",
    "            ...\n",
    "        elif 条件表达式：\n",
    "            语句1\n",
    "            ...\n",
    "        elif 条件表达式：\n",
    "            语句1\n",
    "            ...\n",
    "        ...\n",
    "        else\n",
    "            语句1\n",
    "            ...\n",
    "- elif 可以有很多个\n",
    "- else 可选（可以没有）\n",
    "- 多路分支只会选一个执行"
   ]
  },
  {
   "cell_type": "code",
   "execution_count": 18,
   "metadata": {},
   "outputs": [
    {
     "name": "stdout",
     "output_type": "stream",
     "text": [
      "请输入学生成绩：86\n",
      "B\n"
     ]
    }
   ],
   "source": [
    "score = input(\"请输入学生成绩：\")\n",
    "score = int(score)\n",
    "if score >= 90: \n",
    "    print(\"A\")\n",
    "# elif\n",
    "elif score >= 80:\n",
    "    print(\"B\")\n",
    "elif score >= 70:\n",
    "    print(\"C\")\n",
    "elif score >= 60:\n",
    "    print(\"D\")\n",
    "else:\n",
    "    print(\"走吧，往别处飞吧\")"
   ]
  },
  {
   "cell_type": "markdown",
   "metadata": {},
   "source": [
    "## if语句其他：\n",
    "- if语句可以嵌套使用，但不推荐\n",
    "- python中没有switch-case语句"
   ]
  },
  {
   "cell_type": "markdown",
   "metadata": {},
   "source": [
    "# 循环语句\n",
    "- 重复执行某些固定动作或者处理基本固定的事物\n",
    "- 分类\n",
    "        - for循环\n",
    "        - while循环\n",
    "## for循环\n",
    "- for循环\n",
    "\n",
    "          for 变量 in 序列：\n",
    "              语句1\n",
    "              语句2\n",
    "              ...\n",
    "              "
   ]
  },
  {
   "cell_type": "code",
   "execution_count": 20,
   "metadata": {},
   "outputs": [
    {
     "name": "stdout",
     "output_type": "stream",
     "text": [
      "zhangsan\n",
      "lisi\n",
      "wangwu\n",
      "wangliu\n"
     ]
    }
   ],
   "source": [
    "# 列表就是一系列数字或者其他值，一般用中括号表示\n",
    "# 例如 ['zhangsan','lisi','wangwu','wangliu']:\n",
    "\n",
    "# 打印学生列表姓名\n",
    "for name in ['zhangsan','lisi','wangwu','wangliu']:\n",
    "    print(name)"
   ]
  },
  {
   "cell_type": "code",
   "execution_count": 22,
   "metadata": {},
   "outputs": [
    {
     "name": "stdout",
     "output_type": "stream",
     "text": [
      "zhangsan\n",
      "我们不约，同学请自重\n",
      "lisi\n",
      "我们不约，同学请自重\n",
      "wangwu\n",
      "我们不约，同学请自重\n",
      "jingjing\n",
      "我的最爱jingjing出现了\n"
     ]
    }
   ],
   "source": [
    "# 打印学生列表姓名\n",
    "# 如果是jingijing，那肯定是我的最爱啊\n",
    "# 那要是别的学生，就要冷酷拒绝他\n",
    "for name in ['zhangsan','lisi','wangwu','jingjing']:\n",
    "    print(name)\n",
    "    if name == \"jingjing\":\n",
    "        print(\"我的最爱{0}出现了\".format(name))\n",
    "    else:\n",
    "        print(\"我们不约，同学请自重\")"
   ]
  },
  {
   "cell_type": "markdown",
   "metadata": {},
   "source": [
    "## range介绍\n",
    "- 生成一个数字序列\n",
    "- 具体范围可以设定"
   ]
  },
  {
   "cell_type": "code",
   "execution_count": 23,
   "metadata": {},
   "outputs": [
    {
     "name": "stdout",
     "output_type": "stream",
     "text": [
      "1\n",
      "2\n",
      "3\n",
      "4\n",
      "5\n",
      "6\n",
      "7\n",
      "8\n",
      "9\n"
     ]
    }
   ],
   "source": [
    "# range练习\n",
    "# 打印从1-10的数字\n",
    "# 注意，一般在python中，如果由表示数字范围的两个数，一般是包含左边数字不包含右边数字\n",
    "# randint是特例，他左右都包含\n",
    "# range函数在python2和3中有严重的区别\n",
    "for i in range(1,10):\n",
    "    print(i)"
   ]
  },
  {
   "cell_type": "markdown",
   "metadata": {},
   "source": [
    "## for-else语句\n",
    "- 当for循环结束的时候，会执行else语句\n",
    "- else语句是可选语句"
   ]
  },
  {
   "cell_type": "code",
   "execution_count": 24,
   "metadata": {},
   "outputs": [
    {
     "name": "stdout",
     "output_type": "stream",
     "text": [
      "zhangsan\n",
      "我们不约，同学请自重\n",
      "lisi\n",
      "我们不约，同学请自重\n",
      "wangwu\n",
      "我们不约，同学请自重\n",
      "jingjing\n",
      "我的最爱jingjing出现了\n",
      "别的都不可能了，sorry\n"
     ]
    }
   ],
   "source": [
    "# for-else语句\n",
    "# 打印列表中同学\n",
    "# 如果没有在列表中，或者列表结束了，我们需要打印提示语句，\n",
    "for name in ['zhangsan','lisi','wangwu','jingjing']:\n",
    "    print(name)\n",
    "    if name == \"jingjing\":\n",
    "        print(\"我的最爱{0}出现了\".format(name))\n",
    "    else:\n",
    "        print(\"我们不约，同学请自重\")\n",
    "else:\n",
    "    print(\"别的都不可能了，sorry\")"
   ]
  },
  {
   "cell_type": "markdown",
   "metadata": {},
   "source": [
    "## for循环-break,continue,pass\n",
    "- break: 无条件结束整个循环，简称循环猝死\n",
    "- continue无条件结束本次循环，从新进入下一轮循环\n",
    "- pass：表示略过，通常用于占位"
   ]
  },
  {
   "cell_type": "code",
   "execution_count": 27,
   "metadata": {},
   "outputs": [
    {
     "name": "stdout",
     "output_type": "stream",
     "text": [
      "1\n",
      "2\n",
      "3\n",
      "4\n",
      "5\n",
      "6\n",
      "找到了\n"
     ]
    }
   ],
   "source": [
    "# 在1-10的数字中，寻找数字7，一旦找到，打印出来，其余什么都不做\n",
    "# for 循环中的变量表示，一般用i，k，m，n，或者indx，idx，item之类\n",
    "for i in range(1,11):\n",
    "    if i == 7:\n",
    "        print(\"找到了\")\n",
    "        break\n",
    "    else:\n",
    "        print(i)"
   ]
  },
  {
   "cell_type": "code",
   "execution_count": 5,
   "metadata": {},
   "outputs": [
    {
     "name": "stdout",
     "output_type": "stream",
     "text": [
      "2 是偶数\n",
      "4 是偶数\n",
      "6 是偶数\n",
      "8 是偶数\n",
      "10 是偶数\n"
     ]
    }
   ],
   "source": [
    "# continue语句练习(1)\n",
    "# 在1-10的数字中，寻找所有偶数，找到偶数后打印\n",
    "for i in range(1,11):\n",
    "    if i % 2 == 1:\n",
    "        continue\n",
    "    else:\n",
    "        print(\"{0} 是偶数\".format(i))"
   ]
  },
  {
   "cell_type": "code",
   "execution_count": 7,
   "metadata": {},
   "outputs": [
    {
     "name": "stdout",
     "output_type": "stream",
     "text": [
      "2 是偶数\n",
      "4 是偶数\n",
      "6 是偶数\n",
      "8 是偶数\n",
      "10 是偶数\n"
     ]
    }
   ],
   "source": [
    "# continue语句练习(2)\n",
    "# 在1-10的数字中，寻找所有偶数，找到偶数后打印\n",
    "for i in range(1,11):\n",
    "    if i % 2 == 0:\n",
    "        print(\"{0} 是偶数\".format(i))"
   ]
  },
  {
   "cell_type": "code",
   "execution_count": 8,
   "metadata": {},
   "outputs": [
    {
     "name": "stdout",
     "output_type": "stream",
     "text": [
      "2 是偶数\n",
      "4 是偶数\n",
      "6 是偶数\n",
      "8 是偶数\n",
      "10 是偶数\n"
     ]
    }
   ],
   "source": [
    "# continue语句练习(3)\n",
    "# 在1-10的数字中，寻找所有偶数，找到偶数后打印\n",
    "# 本案例完整显示continue的用法和作用\n",
    "for i in range(1,11):\n",
    "    if i % 2 == 1:\n",
    "        continue\n",
    "    print(\"{0} 是偶数\".format(i))"
   ]
  },
  {
   "cell_type": "code",
   "execution_count": 18,
   "metadata": {},
   "outputs": [
    {
     "name": "stdout",
     "output_type": "stream",
     "text": [
      "holl\n",
      "holl\n",
      "holl\n",
      "holl\n",
      "holl\n",
      "holl\n",
      "holl\n",
      "holl\n",
      "holl\n",
      "holl\n"
     ]
    }
   ],
   "source": [
    "# pass例子，一般用于占位\n",
    "for i in range(1,11):\n",
    "    pass\n",
    "    print(\"holl\")"
   ]
  },
  {
   "cell_type": "code",
   "execution_count": null,
   "metadata": {},
   "outputs": [],
   "source": []
  }
 ],
 "metadata": {
  "kernelspec": {
   "display_name": "Python 3",
   "language": "python",
   "name": "python3"
  },
  "language_info": {
   "codemirror_mode": {
    "name": "ipython",
    "version": 3
   },
   "file_extension": ".py",
   "mimetype": "text/x-python",
   "name": "python",
   "nbconvert_exporter": "python",
   "pygments_lexer": "ipython3",
   "version": "3.6.5"
  }
 },
 "nbformat": 4,
 "nbformat_minor": 2
}

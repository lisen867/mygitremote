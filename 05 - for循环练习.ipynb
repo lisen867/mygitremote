{
 "cells": [
  {
   "cell_type": "markdown",
   "metadata": {},
   "source": [
    "# 简单的图形打印\n",
    "- * * * * *\n",
    "- * * * * *\n",
    "- * * * * *\n",
    "- * * * * *"
   ]
  },
  {
   "cell_type": "code",
   "execution_count": 1,
   "metadata": {
    "scrolled": true
   },
   "outputs": [
    {
     "name": "stdout",
     "output_type": "stream",
     "text": [
      "* * * * *\n",
      "* * * * *\n",
      "* * * * *\n",
      "* * * * *\n"
     ]
    }
   ],
   "source": [
    "print(\"* * * * *\")\n",
    "print(\"* * * * *\")\n",
    "print(\"* * * * *\")\n",
    "print(\"* * * * *\")"
   ]
  },
  {
   "cell_type": "code",
   "execution_count": 1,
   "metadata": {},
   "outputs": [
    {
     "name": "stdout",
     "output_type": "stream",
     "text": [
      "* * * * * \n",
      "* * * * * \n",
      "* * * * * \n",
      "* * * * * \n"
     ]
    }
   ],
   "source": [
    "print(\"* \" * 5)\n",
    "print(\"* \" * 5)\n",
    "print(\"* \" * 5)\n",
    "print(\"* \" * 5)"
   ]
  },
  {
   "cell_type": "code",
   "execution_count": 3,
   "metadata": {
    "scrolled": true
   },
   "outputs": [
    {
     "name": "stdout",
     "output_type": "stream",
     "text": [
      "* * * * *\n",
      "* * * * *\n",
      "* * * * *\n",
      "* * * * *\n"
     ]
    }
   ],
   "source": [
    "#利用for循环更改上面案例\n",
    "for i in range(0,4):\n",
    "    print(\"* * * * *\")"
   ]
  },
  {
   "cell_type": "code",
   "execution_count": 4,
   "metadata": {},
   "outputs": [
    {
     "name": "stdout",
     "output_type": "stream",
     "text": [
      "* * * * * \n",
      "* * * * * \n",
      "* * * * * \n",
      "* * * * * \n"
     ]
    }
   ],
   "source": [
    "#利用双层循环更改上面案例\n",
    "for i in range(0,4):\n",
    "    #利用for循环打印一行星号\n",
    "    for j in range(5):\n",
    "        #print默认自动换行\n",
    "        #可以通过end参数控制\n",
    "        print(\"* \", end= \"\")\n",
    "    print()"
   ]
  },
  {
   "cell_type": "code",
   "execution_count": 33,
   "metadata": {},
   "outputs": [
    {
     "name": "stdout",
     "output_type": "stream",
     "text": [
      "* * * * * \n",
      "* * * * * \n",
      "* * * * * \n",
      "* * * * * \n"
     ]
    }
   ],
   "source": [
    "#利用for循环更改上面案例\n",
    "for i in range(4):\n",
    "    print(\"* \" * 5)"
   ]
  },
  {
   "cell_type": "markdown",
   "metadata": {},
   "source": [
    "# 打印空心方形在输出上面\n",
    "'''\n",
    "* * * * *\n",
    "*       *\n",
    "*       *\n",
    "* * * * *\n",
    "'''\n",
    "思路：\n",
    "1,正常利用for循环控住打印行\n",
    "2,如果是第一行和最后一行，则完整打印\n",
    "3，否则，判断打印列，如果是第一列或者最后一列，则打印星号，否则打印空格\n",
    "\"\""
   ]
  },
  {
   "cell_type": "code",
   "execution_count": 5,
   "metadata": {},
   "outputs": [
    {
     "name": "stdout",
     "output_type": "stream",
     "text": [
      "* * * * * \n",
      "*       *\n",
      "*       *\n",
      "* * * * * \n"
     ]
    }
   ],
   "source": [
    "#外层循环控制行\n",
    "for i in range(4):\n",
    "    if i == 0:\n",
    "        print(\"* \" * 5)\n",
    "    if i == 3:\n",
    "        print(\"* \" * 5)\n",
    "    if i == 1:\n",
    "        print(\"*       *\")\n",
    "    if i == 2:\n",
    "        print(\"*       *\")"
   ]
  },
  {
   "cell_type": "code",
   "execution_count": 6,
   "metadata": {},
   "outputs": [
    {
     "name": "stdout",
     "output_type": "stream",
     "text": [
      "* * * * * \n",
      "*       *\n",
      "*       *\n",
      "* * * * * \n"
     ]
    }
   ],
   "source": [
    "#更改上面的写法\n",
    "#外层循环控制行\n",
    "for i in range(4):\n",
    "    if i == 0 or i == 3:\n",
    "        print(\"* \" * 5)\n",
    "    if i == 1 or i == 2:\n",
    "        print(\"*       *\")"
   ]
  },
  {
   "cell_type": "code",
   "execution_count": 10,
   "metadata": {},
   "outputs": [
    {
     "name": "stdout",
     "output_type": "stream",
     "text": [
      "* * * * * \n",
      "*       * \n",
      "*       * \n",
      "* * * * * \n"
     ]
    }
   ],
   "source": [
    "#更改上面的写法\n",
    "#外层循环控制行\n",
    "for i in range(4):\n",
    "    if i == 0 or i == 3:\n",
    "        print(\"* \" * 5)\n",
    "    if i == 1 or i == 2:\n",
    "        for j in range(5):\n",
    "            if j == 0 or j == 4:\n",
    "                print(\"* \", end=\"\")\n",
    "            else:\n",
    "                print(\"  \", end=\"\")\n",
    "        print()"
   ]
  },
  {
   "cell_type": "markdown",
   "metadata": {},
   "source": [
    "# 打印空心三角形"
   ]
  },
  {
   "cell_type": "code",
   "execution_count": 12,
   "metadata": {},
   "outputs": [
    {
     "name": "stdout",
     "output_type": "stream",
     "text": [
      "*\n",
      "* *\n",
      "* * *\n",
      "* * * *\n",
      "* * * * *\n"
     ]
    }
   ],
   "source": [
    "print(\"*\")\n",
    "print(\"* *\")\n",
    "print(\"* * *\")\n",
    "print(\"* * * *\")\n",
    "print(\"* * * * *\")"
   ]
  },
  {
   "cell_type": "code",
   "execution_count": 35,
   "metadata": {},
   "outputs": [
    {
     "name": "stdout",
     "output_type": "stream",
     "text": [
      "* \n",
      "* * \n",
      "* * * \n",
      "* * * * \n",
      "* * * * * \n"
     ]
    }
   ],
   "source": [
    "# for\n",
    "# 逐次按行打印，这件事基本是一样或者相似的，优先考虑循环\n",
    "for i in range(5):\n",
    "    # 打印一行\n",
    "    # 每一行打印几个星号，跟行号相关\n",
    "    # 一行内打印不需要换行end=\"\"，一行打印完毕换行print()\n",
    "    for j in range(i+1):\n",
    "        print(\"* \",end=\"\")\n",
    "    print()\n",
    "    "
   ]
  },
  {
   "cell_type": "code",
   "execution_count": 38,
   "metadata": {},
   "outputs": [
    {
     "name": "stdout",
     "output_type": "stream",
     "text": [
      "\n",
      "\n",
      "\n",
      "\n",
      "* * * * * \n"
     ]
    }
   ],
   "source": [
    "for i in range(5):\n",
    "    # 打印一行\n",
    "    # 每一行打印几个星号，跟行号相关\n",
    "    # 一行内打印不需要换行end=\"\"，一行打印完毕换行print()\n",
    "    # 需要判断打印的是否是最后一行，如果是则打印全部星号\n",
    "    # 否则，需要判断是否是第一个和最后一个，如果是，打印星号，否则打印空格\n",
    "    for j in range(i+1):\n",
    "        if i == 4:\n",
    "         # 需要判断打印的是否是最后一行，\n",
    "            print(\"* \",end=\"\")\n",
    "        # 如果是则打印全部星号\n",
    "        #\n",
    "    print()"
   ]
  },
  {
   "cell_type": "code",
   "execution_count": 42,
   "metadata": {},
   "outputs": [
    {
     "name": "stdout",
     "output_type": "stream",
     "text": [
      "* \n",
      "* * \n",
      "*   * \n",
      "*     * \n",
      "* * * * * \n"
     ]
    }
   ],
   "source": [
    "for i in range(5):\n",
    "    # 1.打印一行\n",
    "    # 2.每一行打印几个星号，跟行号相关\n",
    "    # 一行内打印不需要换行end=\"\"，一行打印完毕换行print()\n",
    "    # 3.需要判断打印的是否是最后一行，如果是则打印全部星号\n",
    "    # 4.需要判断第一个和最后一个打印星号，否则打印空格\n",
    "    for j in range(i+1):\n",
    "        if i == 4:\n",
    "         # 需要判断打印的是否是最后一行，\n",
    "            print(\"* \",end=\"\")\n",
    "            continue\n",
    "        # 如果是则打印全部星号\n",
    "        # continue无条件结束本次循环，从新进入下一轮循环\n",
    "        if j == 0 or j == i:\n",
    "        # 第一个和最后一个\n",
    "        # j控制列的数字\n",
    "            print(\"* \",end=\"\")\n",
    "            # 打印星号 取消换行\n",
    "        else:\n",
    "            print(\"  \",end=\"\")\n",
    "            # 否则打印空格\n",
    "    print()"
   ]
  },
  {
   "cell_type": "code",
   "execution_count": 61,
   "metadata": {},
   "outputs": [
    {
     "name": "stdout",
     "output_type": "stream",
     "text": [
      "0 \n",
      "0 0 \n",
      "0   0 \n",
      "0     0 \n",
      "0 0 0 0 0 \n"
     ]
    }
   ],
   "source": [
    "for i in range(5):\n",
    "    for j in range(i+1):\n",
    "        if i ==4:\n",
    "            print(\"0 \", end=\"\")\n",
    "            continue\n",
    "        if j ==0 or j==i:\n",
    "            print(\"0 \", end=\"\")\n",
    "        else:\n",
    "            print(\"  \",end=\"\")\n",
    "    print()\n",
    "    "
   ]
  },
  {
   "cell_type": "code",
   "execution_count": 22,
   "metadata": {},
   "outputs": [
    {
     "name": "stdout",
     "output_type": "stream",
     "text": [
      "* * * * * \n",
      "* * * * \n",
      "* * * \n",
      "* * \n",
      "* \n"
     ]
    }
   ],
   "source": [
    "# i-for控制行号\n",
    "# j-for控制列号\n",
    "for i in range(5):\n",
    "    for i in range(5-i):\n",
    "        print(\"* \",end=\"\")\n",
    "    print()\n",
    "    "
   ]
  },
  {
   "cell_type": "code",
   "execution_count": 42,
   "metadata": {},
   "outputs": [
    {
     "name": "stdout",
     "output_type": "stream",
     "text": [
      "* * * * * \n",
      "*     * \n",
      "*   * \n",
      "* * \n",
      "* \n"
     ]
    }
   ],
   "source": [
    "# i-for控制行号\n",
    "# j-for控制列号\n",
    "for i in range(5):\n",
    "    for j in range(5-i):\n",
    "        if i == 0:\n",
    "            print(\"* \",end=\"\")\n",
    "            continue\n",
    "            \n",
    "        if j==0 or j == 4-i:\n",
    "            print(\"* \", end=\"\")\n",
    "        else:\n",
    "            print(\"  \",end=\"\")\n",
    "    print()"
   ]
  },
  {
   "cell_type": "markdown",
   "metadata": {},
   "source": [
    "### 打印正三角形"
   ]
  },
  {
   "cell_type": "code",
   "execution_count": 2,
   "metadata": {},
   "outputs": [
    {
     "name": "stdout",
     "output_type": "stream",
     "text": [
      "      * \n",
      "     * * \n",
      "    * * * \n",
      "   * * * * \n",
      "  * * * * * \n",
      " * * * * * * \n"
     ]
    }
   ],
   "source": [
    "# for i 控制行\n",
    "# for j 控制列\n",
    "for i in range(6):\n",
    "    # 思路：先打印一行空格，代表每一行星号前的空格\n",
    "    # 再不换行，打印星号\n",
    "    for j in range(6-i):\n",
    "        print(\" \",end=\"\")\n",
    "    for m in range(i+1):\n",
    "        print(\"* \",end=\"\")\n",
    "    print()"
   ]
  },
  {
   "cell_type": "code",
   "execution_count": 41,
   "metadata": {},
   "outputs": [
    {
     "name": "stdout",
     "output_type": "stream",
     "text": [
      "    * \n",
      "   * * \n",
      "  *   * \n",
      " *     * \n",
      "* * * * * \n"
     ]
    }
   ],
   "source": [
    "for i in range(5):\n",
    "    for k in range(4-i):\n",
    "        print(end=\" \")\n",
    "    for j in range(4-i,5):\n",
    "        if i==4 or j==4-i or j==4:\n",
    "            print(\"* \",end=\"\")\n",
    "        else:\n",
    "            print(\"  \",end=\"\")\n",
    "    print()"
   ]
  },
  {
   "cell_type": "code",
   "execution_count": 90,
   "metadata": {},
   "outputs": [
    {
     "name": "stdout",
     "output_type": "stream",
     "text": [
      "    * \n",
      "   * * \n",
      "  *   * \n",
      " *     * \n",
      "* * * * * \n"
     ]
    }
   ],
   "source": [
    "for i in range(5):\n",
    "    for j in range(4-i):\n",
    "        print(\" \",end=\"\")\n",
    "    for m in range(4-i,5):\n",
    "        if i==4 or m==4-i or m==4:\n",
    "            print(\"* \",end=\"\")\n",
    "        else: \n",
    "            print(\"  \",end=\"\")\n",
    "    print()\n",
    "        "
   ]
  },
  {
   "cell_type": "code",
   "execution_count": null,
   "metadata": {},
   "outputs": [],
   "source": []
  }
 ],
 "metadata": {
  "kernelspec": {
   "display_name": "Python 3",
   "language": "python",
   "name": "python3"
  },
  "language_info": {
   "codemirror_mode": {
    "name": "ipython",
    "version": 3
   },
   "file_extension": ".py",
   "mimetype": "text/x-python",
   "name": "python",
   "nbconvert_exporter": "python",
   "pygments_lexer": "ipython3",
   "version": "3.6.5"
  }
 },
 "nbformat": 4,
 "nbformat_minor": 2
}

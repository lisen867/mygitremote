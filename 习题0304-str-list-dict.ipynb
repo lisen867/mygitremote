{
 "cells": [
  {
   "cell_type": "markdown",
   "metadata": {},
   "source": [
    "# python数据类型的内建函数\n",
    "- str\n",
    "- list\n",
    "- dict\n",
    "- set"
   ]
  },
  {
   "cell_type": "markdown",
   "metadata": {},
   "source": [
    "# 字符串的简单操作"
   ]
  },
  {
   "cell_type": "code",
   "execution_count": 3,
   "metadata": {},
   "outputs": [
    {
     "name": "stdout",
     "output_type": "stream",
     "text": [
      "i lovewangjing\n",
      "i love wangjing\n",
      "i love wang jing\n"
     ]
    }
   ],
   "source": [
    "# 链接操作\n",
    "s1 = \"i love\"\n",
    "s2 = \"wangjing\"\n",
    "\n",
    "s3 = s1 + s2\n",
    "print(s3)\n",
    "\n",
    "print(s1 + \" \" + s2)\n",
    "\n",
    "print(\"i love \" + \"wang jing\")"
   ]
  },
  {
   "cell_type": "code",
   "execution_count": 6,
   "metadata": {},
   "outputs": [
    {
     "name": "stdout",
     "output_type": "stream",
     "text": [
      "i love wang jing,  i love wang jing,  i love wang jing,  i love wang jing,  i love wang jing,  i love wang jing,  \n"
     ]
    }
   ],
   "source": [
    "# 字符串的乘法\n",
    "\n",
    "s = \"i love wang jing,  \"\n",
    "s2 = s * 6\n",
    "print(s2)"
   ]
  },
  {
   "cell_type": "code",
   "execution_count": 24,
   "metadata": {},
   "outputs": [
    {
     "name": "stdout",
     "output_type": "stream",
     "text": [
      " \n",
      "g\n",
      "34567\n",
      "12345678\n",
      "1723380867696\n",
      "1723380867696\n",
      "1723381434568\n",
      "1723381434568\n"
     ]
    },
    {
     "ename": "TypeError",
     "evalue": "'str' object does not support item assignment",
     "output_type": "error",
     "traceback": [
      "\u001b[1;31m---------------------------------------------------------------------------\u001b[0m",
      "\u001b[1;31mTypeError\u001b[0m                                 Traceback (most recent call last)",
      "\u001b[1;32m<ipython-input-24-0ee86b900d38>\u001b[0m in \u001b[0;36m<module>\u001b[1;34m()\u001b[0m\n\u001b[0;32m     21\u001b[0m \u001b[0mprint\u001b[0m\u001b[1;33m(\u001b[0m\u001b[0mid\u001b[0m\u001b[1;33m(\u001b[0m\u001b[0ms1\u001b[0m\u001b[1;33m)\u001b[0m\u001b[1;33m)\u001b[0m\u001b[1;33m\u001b[0m\u001b[0m\n\u001b[0;32m     22\u001b[0m \u001b[1;31m# 不能直接对字符串进行下标元素赋值，否则会导致错误\u001b[0m\u001b[1;33m\u001b[0m\u001b[1;33m\u001b[0m\u001b[0m\n\u001b[1;32m---> 23\u001b[1;33m \u001b[0ms1\u001b[0m\u001b[1;33m[\u001b[0m\u001b[1;36m1\u001b[0m\u001b[1;33m]\u001b[0m \u001b[1;33m=\u001b[0m \u001b[1;34m'A'\u001b[0m\u001b[1;33m\u001b[0m\u001b[0m\n\u001b[0m\u001b[0;32m     24\u001b[0m \u001b[0mprint\u001b[0m\u001b[1;33m(\u001b[0m\u001b[0ms\u001b[0m\u001b[1;33m)\u001b[0m\u001b[1;33m\u001b[0m\u001b[0m\n\u001b[0;32m     25\u001b[0m \u001b[0mprint\u001b[0m\u001b[1;33m(\u001b[0m\u001b[0ms1\u001b[0m\u001b[1;33m)\u001b[0m\u001b[1;33m\u001b[0m\u001b[0m\n",
      "\u001b[1;31mTypeError\u001b[0m: 'str' object does not support item assignment"
     ]
    }
   ],
   "source": [
    "# 字符串当成列表\n",
    "\n",
    "s = \"i love wang jing\"\n",
    "\n",
    "print(s[1])\n",
    "print(s[-1])\n",
    "\n",
    "s = \"12345678\"\n",
    "print(s[2:7])\n",
    "print(s[:])\n",
    "\n",
    "print(id(s))\n",
    "print(id(s[:]))\n",
    "# 切片返回的是一个全新的字符串吗？\n",
    "# 如果切片去一部分，则返回全新字符串\n",
    "# 如果取完整切片，可能返回内容指向同一字符串\n",
    "s = \"i love wang jing and zhang jing\"\n",
    "s1 = s[:]\n",
    "\n",
    "print(id(s))\n",
    "print(id(s1))\n",
    "# 不能直接对字符串进行下标元素赋值，否则会导致错误\n",
    "s1[1] = 'A'\n",
    "print(s)\n",
    "print(s1)"
   ]
  },
  {
   "cell_type": "code",
   "execution_count": 15,
   "metadata": {},
   "outputs": [
    {
     "name": "stdout",
     "output_type": "stream",
     "text": [
      "1723381423048\n",
      "1723381421192\n",
      "1723381423048\n",
      "1723381423496\n"
     ]
    }
   ],
   "source": [
    "# 用实验证明部分切片和完整切片的区别\n",
    "l = [1,2,3,4,5,6,7,8,100]\n",
    "\n",
    "ll = l[:6]\n",
    "print(id(l))\n",
    "print(id(ll))\n",
    "\n",
    "l2 = l[:]\n",
    "print(id(l))\n",
    "print(id(l2))"
   ]
  },
  {
   "cell_type": "code",
   "execution_count": 20,
   "metadata": {},
   "outputs": [
    {
     "name": "stdout",
     "output_type": "stream",
     "text": [
      "1723381423880\n",
      "1723381423944\n"
     ]
    }
   ],
   "source": [
    "l = [1,2,3,4,5,'ni']\n",
    "l1 = l[:]\n",
    "print(id(l))\n",
    "print(id(l1))"
   ]
  },
  {
   "cell_type": "code",
   "execution_count": 26,
   "metadata": {},
   "outputs": [],
   "source": [
    "# help(str)"
   ]
  },
  {
   "cell_type": "code",
   "execution_count": 30,
   "metadata": {},
   "outputs": [
    {
     "name": "stdout",
     "output_type": "stream",
     "text": [
      "I love wangxiaojing\n"
     ]
    }
   ],
   "source": [
    "# capitalize首字母大写，其余小写，返回字符串\n",
    "\n",
    "s = \"i LOVE WangXiaoJing\"\n",
    "print(s.capitalize())"
   ]
  },
  {
   "cell_type": "code",
   "execution_count": 32,
   "metadata": {},
   "outputs": [
    {
     "name": "stdout",
     "output_type": "stream",
     "text": [
      "I Love Wangxiaojing\n"
     ]
    },
    {
     "data": {
      "text/plain": [
       "'I Love Wangxiaojing'"
      ]
     },
     "execution_count": 32,
     "metadata": {},
     "output_type": "execute_result"
    }
   ],
   "source": [
    "# title() 将每个单词的首字母变为大写 返回的是字符串\n",
    "\n",
    "s = \"i love wangxiaojing\"\n",
    "s1 = s.title()\n",
    "print(s1)\n",
    "# 丘比特笔记本专用\n",
    "s1"
   ]
  },
  {
   "cell_type": "code",
   "execution_count": 33,
   "metadata": {},
   "outputs": [
    {
     "name": "stdout",
     "output_type": "stream",
     "text": [
      "I 狗LIKE DOG\n"
     ]
    }
   ],
   "source": [
    "# upper（） 将所有字母变为大写  返回字符串\n",
    "# 中文不分大小写\n",
    "s = \"i 狗like dog\"\n",
    "print(s.upper())"
   ]
  },
  {
   "cell_type": "code",
   "execution_count": 34,
   "metadata": {},
   "outputs": [
    {
     "name": "stdout",
     "output_type": "stream",
     "text": [
      "i 狗like dog\n"
     ]
    }
   ],
   "source": [
    "# lower（） 将所有字母变为小写 返回字符串\n",
    "s = \"i 狗like dog\"\n",
    "print(s.lower())"
   ]
  },
  {
   "cell_type": "code",
   "execution_count": 36,
   "metadata": {},
   "outputs": [
    {
     "name": "stdout",
     "output_type": "stream",
     "text": [
      "l 狗LIKE DOG\n"
     ]
    }
   ],
   "source": [
    "# swapcase() 大小写互换  返回字符串\n",
    "s = \"L 狗like dog\"\n",
    "print(s.swapcase())"
   ]
  },
  {
   "cell_type": "code",
   "execution_count": 37,
   "metadata": {},
   "outputs": [
    {
     "name": "stdout",
     "output_type": "stream",
     "text": [
      "11\n",
      "10\n"
     ]
    }
   ],
   "source": [
    "# len() 计算字符串长度 不属于字符串的内建函数\n",
    "# len统计长度是按照字符个数统计，一个汉字的长度为一\n",
    "s = \"i 狗like dog\"\n",
    "s1 = \"i like dog\"\n",
    "print(len(s))\n",
    "print(len(s1))"
   ]
  },
  {
   "cell_type": "code",
   "execution_count": 40,
   "metadata": {},
   "outputs": [
    {
     "name": "stdout",
     "output_type": "stream",
     "text": [
      "6\n",
      "9\n"
     ]
    }
   ],
   "source": [
    "# find（） 查找指定字符串，找不到返回-1 第一次找到返回索引值\n",
    "# index（） 查找指定字符串，抄不到报错\n",
    "s = 'sdnfinsndanvnjfild'\n",
    "s1 = s.find('s', 3)\n",
    "s2 = s.index('a')\n",
    "print(s1)\n",
    "print(s2)"
   ]
  },
  {
   "cell_type": "code",
   "execution_count": 41,
   "metadata": {},
   "outputs": [
    {
     "name": "stdout",
     "output_type": "stream",
     "text": [
      "Help on method_descriptor:\n",
      "\n",
      "find(...)\n",
      "    S.find(sub[, start[, end]]) -> int\n",
      "    \n",
      "    Return the lowest index in S where substring sub is found,\n",
      "    such that sub is contained within S[start:end].  Optional\n",
      "    arguments start and end are interpreted as in slice notation.\n",
      "    \n",
      "    Return -1 on failure.\n",
      "\n"
     ]
    }
   ],
   "source": [
    "help(str.find)\n",
    "# help(str.index)"
   ]
  },
  {
   "cell_type": "code",
   "execution_count": 43,
   "metadata": {},
   "outputs": [
    {
     "name": "stdout",
     "output_type": "stream",
     "text": [
      "6\n"
     ]
    }
   ],
   "source": [
    "# count() 计算字符串出现次数 返回整形\n",
    "s = 'aosjcuedassosfsnfiudvsa'\n",
    "print(s.count('s'))"
   ]
  },
  {
   "cell_type": "code",
   "execution_count": 44,
   "metadata": {},
   "outputs": [
    {
     "name": "stdout",
     "output_type": "stream",
     "text": [
      "False\n",
      "True\n",
      "==========\n",
      "True\n",
      "False\n"
     ]
    }
   ],
   "source": [
    "# startswith() 检测是否以指定字符开头 返回布尔值\n",
    "# endswith() 检测是否以指定字母结束\n",
    "s = 'I like dog'\n",
    "print(s.startswith('i'))\n",
    "print(s.startswith('I'))\n",
    "\n",
    "print('=' * 10)\n",
    "\n",
    "print(s.endswith('g'))\n",
    "print(s.endswith('o'))"
   ]
  },
  {
   "cell_type": "code",
   "execution_count": 49,
   "metadata": {},
   "outputs": [
    {
     "name": "stdout",
     "output_type": "stream",
     "text": [
      "False\n",
      "True\n",
      "===============\n",
      "True\n",
      "False\n",
      "===============\n",
      "False\n",
      "False\n",
      "True\n",
      "===============\n",
      "True\n",
      "False\n",
      "False\n"
     ]
    }
   ],
   "source": [
    "# isupper() 检测所有字母是否是大写 返回的都是布尔值\n",
    "s = 'f哈gh'\n",
    "s1 = 'DF哈GH'\n",
    "print(s.isupper())\n",
    "print(s1.isupper())\n",
    "print('=' * 15)\n",
    "# islower() 检测所有字母是否是小写字母\n",
    "print(s.islower())\n",
    "print(s1.islower())\n",
    "print('=' * 15)\n",
    "# istitle() 检测是否以指定标题显示每个单词字母大写\n",
    "print(s.istitle())\n",
    "print(s1.istitle())\n",
    "s2 = 'I Like Dog'\n",
    "print(s2.istitle())\n",
    "print('=' * 15)\n",
    "# isspace() 检测字符串是否是空字符串\n",
    "s = '  '\n",
    "s1 = 'i like  '\n",
    "s2 = '' # 至少有一个，否则返回false\n",
    "print(s.isspace())\n",
    "print(s1.isspace())\n",
    "print(s2.isspace())"
   ]
  },
  {
   "cell_type": "code",
   "execution_count": 51,
   "metadata": {},
   "outputs": [
    {
     "name": "stdout",
     "output_type": "stream",
     "text": [
      "False\n",
      "True\n",
      "True\n"
     ]
    }
   ],
   "source": [
    "# isalpha() 检测字符串是否是字母组成 返回布尔值\n",
    "# 说明： 汉字在英文字符包裹中被当做字符处理\n",
    "s = 'I 哈like dog'\n",
    "s1 = 'I哈likedog'\n",
    "print(s.isalpha())\n",
    "print(s1.isalpha())\n",
    "\n",
    "s2 = '哈likemi'\n",
    "print(s2.isalpha())"
   ]
  },
  {
   "cell_type": "code",
   "execution_count": 52,
   "metadata": {},
   "outputs": [
    {
     "name": "stdout",
     "output_type": "stream",
     "text": [
      "False\n",
      "True\n",
      "True\n"
     ]
    }
   ],
   "source": [
    "# isalnum() 检测字符串是否有字母或数字组成  返回布尔值\n",
    "s = 'I 哈jdnjd dog'\n",
    "s1 = 'I哈likedog15644'\n",
    "s2 = '2125'\n",
    "print(s.isalnum())\n",
    "print(s1.isalnum())\n",
    "print(s2.isalnum())"
   ]
  },
  {
   "cell_type": "code",
   "execution_count": 1,
   "metadata": {},
   "outputs": [
    {
     "name": "stdout",
     "output_type": "stream",
     "text": [
      "True\n",
      "True\n",
      "True\n",
      "===============\n",
      "True\n",
      "===============\n",
      "False\n",
      "False\n",
      "False\n",
      "===============\n",
      "False\n",
      "False\n",
      "True\n",
      "===============\n",
      "False\n",
      "False\n",
      "True\n"
     ]
    }
   ],
   "source": [
    "# isdigit() 检测字符串是否由数字组成 \n",
    "# 如果S中的所有字符都是数字，并且在S中至少有一个字符，则返回True。\n",
    "# isdecimal() 如果S中只有十进制字符，则返回True，否则为False。\n",
    "# isnumeric() 如果S中只有数字字符，则返回True，否则为False。\n",
    "# 百度digit，decimal，numeric的准确含义\n",
    "s = '123'\n",
    "print(s.isdigit())\n",
    "print(s.isdecimal())\n",
    "print(s.isnumeric())\n",
    "print('=' * 15)\n",
    "\n",
    "s = b'101100'\n",
    "print(s.isdigit())\n",
    "#print(s.isdecimal())\n",
    "#print(s.isnumeric())\n",
    "print('=' * 15)\n",
    "s = '123.3'\n",
    "print(s.isdigit())\n",
    "print(s.isdecimal())\n",
    "print(s.isnumeric())\n",
    "print('=' * 15)\n",
    "s = '三一百'\n",
    "print(s.isdigit())\n",
    "print(s.isdecimal())\n",
    "print(s.isnumeric())\n",
    "print('=' * 15)\n",
    "# 下面是罗马数字Ⅲ（3）\n",
    "s = 'Ⅲ'\n",
    "print(s.isdigit())\n",
    "print(s.isdecimal())\n",
    "print(s.isnumeric())"
   ]
  },
  {
   "cell_type": "code",
   "execution_count": 2,
   "metadata": {},
   "outputs": [
    {
     "name": "stdout",
     "output_type": "stream",
     "text": [
      "['日照香炉生紫烟', '疑是银河落九天', '飞流直下三千尺']\n"
     ]
    }
   ],
   "source": [
    "# split() 用指定字符切割字符串 返回由字符串组成的列表\n",
    "s = '日照香炉生紫烟*疑是银河落九天*飞流直下三千尺'\n",
    "listl = s.split('*')\n",
    "print(listl)"
   ]
  },
  {
   "cell_type": "code",
   "execution_count": 4,
   "metadata": {},
   "outputs": [
    {
     "name": "stdout",
     "output_type": "stream",
     "text": [
      "['日照香炉生紫烟', '疑是银河落九天', '飞流直下三千尺']\n"
     ]
    }
   ],
   "source": [
    "# splitlines() 以换行切割字符串\n",
    "s = '''日照香炉生紫烟\\n疑是银河落九天\n",
    "飞流直下三千尺'''\n",
    "print(s.splitlines())"
   ]
  },
  {
   "cell_type": "code",
   "execution_count": 11,
   "metadata": {},
   "outputs": [
    {
     "name": "stdout",
     "output_type": "stream",
     "text": [
      "日照香炉生紫烟,疑是银河落九天,飞流直下三千尺\n"
     ]
    }
   ],
   "source": [
    "# join() 将列表按照指定字符串链接 返回的是字符串\n",
    "list1 = ['日照香炉生紫烟','疑是银河落九天','飞流直下三千尺']\n",
    "# '中可以是任何符号'\n",
    "s = ','.join(list1)\n",
    "print(s)"
   ]
  },
  {
   "cell_type": "code",
   "execution_count": 12,
   "metadata": {},
   "outputs": [
    {
     "name": "stdout",
     "output_type": "stream",
     "text": [
      "3\n",
      "sbc  a\n",
      "#sbc#\n",
      "##sbc\n"
     ]
    }
   ],
   "source": [
    "# ljust() 指定字符串的长度，内容靠左边，不足的位置用指定字符填充，默认空格，返回字符串\n",
    "s = 'sbc'\n",
    "print(len(s))\n",
    "print(s.ljust(5)+'a')\n",
    "\n",
    "# center() 指定字符串长度，内容居中，不足的位置用指定字符串填充，默认空格，返回字符串\n",
    "print(s.center(5,'#'))\n",
    "\n",
    "# rgust() 指定字符串长度，内容靠右边，不足的位置用指定字符填充，默认空格，返回字符串\n",
    "print(s.rjust(5,'#'))"
   ]
  },
  {
   "cell_type": "code",
   "execution_count": 21,
   "metadata": {},
   "outputs": [
    {
     "name": "stdout",
     "output_type": "stream",
     "text": [
      "--abc--\n",
      "--    abc  --\n",
      "bcc\n",
      "aaabcc\n",
      "aaabcc\n",
      "aaab\n"
     ]
    }
   ],
   "source": [
    "# strip() 去掉左右两边指定字符，默认是去掉空格\n",
    "# lstrip() 去掉左侧指定字符，默认空格\n",
    "# rstrip() 去掉右侧指定字符，默认空格\n",
    "\n",
    "\n",
    "s = '    abc  '\n",
    "print('--'+s.strip()+'--')\n",
    "print('--'+s+'--')\n",
    "\n",
    "s = 'aaabcc'\n",
    "print(s.lstrip('a'))\n",
    "print(s.lstrip('b'))\n",
    "\n",
    "print(s.rstrip('b'))\n",
    "print(s.rstrip('c'))"
   ]
  },
  {
   "cell_type": "code",
   "execution_count": 22,
   "metadata": {},
   "outputs": [
    {
     "name": "stdout",
     "output_type": "stream",
     "text": [
      "000abc\n"
     ]
    }
   ],
   "source": [
    "# zfill() 指定字符串长度，内容靠右，不足的位置用0填充\n",
    "s = 'abc'\n",
    "print(s.zfill(6))"
   ]
  },
  {
   "cell_type": "code",
   "execution_count": 23,
   "metadata": {},
   "outputs": [
    {
     "name": "stdout",
     "output_type": "stream",
     "text": [
      "{23567: 22823, 28818: 30333, 32905: 33756}\n",
      "今天晚上我吃的是大白菜，可好吃了\n"
     ]
    }
   ],
   "source": [
    "# maketrans() 生成用于字符串替换的映射表\n",
    "# translate() 进行字符串替换\n",
    "s = '今天晚上我吃的是小炒肉，可好吃了'\n",
    "table = s.maketrans('小炒肉','大白菜')# 替换长度要一样，（小炒肉，大白菜和粉条）是不行的\n",
    "print(table)\n",
    "print(s.translate(table))"
   ]
  },
  {
   "cell_type": "code",
   "execution_count": 25,
   "metadata": {},
   "outputs": [
    {
     "name": "stdout",
     "output_type": "stream",
     "text": [
      "2301589572424\n",
      "2301589572424\n",
      "[1, 2, 3, 4, 5, 6]\n"
     ]
    }
   ],
   "source": [
    "# append() 向列表末尾添加新元素   返回值None\n",
    "listl = [1,2,3,4,5]\n",
    "\n",
    "print(id(listl))\n",
    "\n",
    "listl.append(6)\n",
    "\n",
    "print(id(listl))\n",
    "print(listl)"
   ]
  },
  {
   "cell_type": "code",
   "execution_count": 27,
   "metadata": {},
   "outputs": [
    {
     "name": "stdout",
     "output_type": "stream",
     "text": [
      "[1, 2, 3, 4, 5]\n",
      "2301589572360\n",
      "2301590424584\n"
     ]
    }
   ],
   "source": [
    "# copy() 复制列表\n",
    "list1 = [1,2,3,4,5]\n",
    "list2 = list1.copy()\n",
    "print(list2)\n",
    "print(id(list1))\n",
    "print(id(list2))"
   ]
  },
  {
   "cell_type": "code",
   "execution_count": 28,
   "metadata": {},
   "outputs": [
    {
     "name": "stdout",
     "output_type": "stream",
     "text": [
      "1\n"
     ]
    }
   ],
   "source": [
    "# count() 计算某个元素在列表中出现的次数\n",
    "list1 = [1,2,3,3,4,5]\n",
    "print(list1.count(1))"
   ]
  },
  {
   "cell_type": "code",
   "execution_count": 39,
   "metadata": {},
   "outputs": [
    {
     "name": "stdout",
     "output_type": "stream",
     "text": [
      "[1, 2.3, 4, 5, 6, 7, 8, 9, 10]\n",
      "[6, 7, 8, 9, 10]\n",
      "None\n",
      "[1, 2.3, 4, 5, 6, 7, 8, 9, 10, 6, 7, 8, 9, 10]\n"
     ]
    }
   ],
   "source": [
    "# extend() 将一个列表继承另一个列表\n",
    "list1 = [1,2.3,4,5]\n",
    "list2 = [6,7,8,9,10]\n",
    "list3 = list1.extend(list2)\n",
    "\n",
    "print(list1)\n",
    "print(list2)\n",
    "print(list3)\n",
    "print(list1+list2)"
   ]
  },
  {
   "cell_type": "code",
   "execution_count": 41,
   "metadata": {},
   "outputs": [
    {
     "name": "stdout",
     "output_type": "stream",
     "text": [
      "2301590422728\n",
      "2301590422728\n"
     ]
    }
   ],
   "source": [
    "list1 = ['nihao',1]\n",
    "list2 = ['a','haha']\n",
    "print(id(list1))\n",
    "list1.extend(list2)\n",
    "print(id(list1))"
   ]
  },
  {
   "cell_type": "code",
   "execution_count": null,
   "metadata": {},
   "outputs": [],
   "source": []
  }
 ],
 "metadata": {
  "kernelspec": {
   "display_name": "Python 3",
   "language": "python",
   "name": "python3"
  },
  "language_info": {
   "codemirror_mode": {
    "name": "ipython",
    "version": 3
   },
   "file_extension": ".py",
   "mimetype": "text/x-python",
   "name": "python",
   "nbconvert_exporter": "python",
   "pygments_lexer": "ipython3",
   "version": "3.6.5"
  }
 },
 "nbformat": 4,
 "nbformat_minor": 2
}

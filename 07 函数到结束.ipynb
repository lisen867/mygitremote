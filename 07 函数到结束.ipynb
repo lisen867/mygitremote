{
 "cells": [
  {
   "cell_type": "markdown",
   "metadata": {},
   "source": [
    "# 四类参数\n",
    "- 普通参数\n",
    "- 默认参数\n",
    "- 关键字参数\n",
    "- 收集参数\n",
    "\n",
    "## 关键字参数\n",
    "- 语法\n",
    "\n",
    "           def func(p1= v1, p2=v2...):\n",
    "               func_body\n",
    "               \n",
    "           调用函数：\n",
    "           func(p1=value1, p2=value2....):\n",
    "           \n",
    "- 比较麻烦，但也有好处：\n",
    "    - 不容易混淆，一般实参和形参只是按照位置一一对应即可，容易出错\n",
    "    - 使用关键字参数，可以不考虑参数位置"
   ]
  },
  {
   "cell_type": "code",
   "execution_count": 4,
   "metadata": {},
   "outputs": [
    {
     "name": "stdout",
     "output_type": "stream",
     "text": [
      "l am student\n",
      "我叫 19, 我今年 lili岁了， 我住我家\n",
      "l am student\n",
      "我叫 lili, 我今年 19岁了， 我住我家\n"
     ]
    }
   ],
   "source": [
    "# 关键字参数案例\n",
    "# 普通参数\n",
    "def stu(name,age,addr):\n",
    "    print(\"l am student\")\n",
    "    print(\"我叫 {0}, 我今年 {1}岁了， 我住{2}\".format(name,age,addr))\n",
    "\n",
    "n = \"lili\"\n",
    "a = \"19\"\n",
    "addr = \"我家\"\n",
    "\n",
    "# 普通参数，只按照位置传递，容易出错\n",
    "stu(a,n,addr)\n",
    "# 关键字参数\n",
    "def stu_key(name=\"no name\",age=\"0\",addr=\"no addr\"):\n",
    "    print(\"l am student\")\n",
    "    print(\"我叫 {0}, 我今年 {1}岁了， 我住{2}\".format(name,age,addr))\n",
    "\n",
    "n = \"lili\"\n",
    "a = \"19\"\n",
    "addr = \"我家\"\n",
    "\n",
    "# 普通参数，只按照位置传递，容易出错\n",
    "stu(age=a,name=n,addr=addr)"
   ]
  },
  {
   "cell_type": "markdown",
   "metadata": {},
   "source": [
    "## 收集参数\n",
    "- 把没有位置，不能和定义时的参数位置相对应的参数，放入一个特定的数据结构中\n",
    "- 语法\n",
    "\n",
    "        def func(*args):\n",
    "            func_body\n",
    "            按照list使用方式访问args得到传入的参数\n",
    "            \n",
    "        调用：\n",
    "        func(p1, p2, p3, ....)\n",
    "- 参数名args不是必须这么写，但是，我们推荐直接用args，约定俗成\n",
    "- 参数名args前需要有星号\n",
    "- 收集参数可以和其他参数共存"
   ]
  },
  {
   "cell_type": "code",
   "execution_count": 7,
   "metadata": {},
   "outputs": [],
   "source": [
    "# 收集参数案例\n",
    "# 函数模拟一个学生进行自我介绍，但具体内容不清楚\n",
    "# args把它看做一个list（列表）\n",
    "def stu( *args):\n",
    "    pass\n",
    "\n",
    "stu(\"lisen\",\"20\",\"北京海淀\",\"xiaojing\",\"single\")\n",
    "stu(\"简单\")"
   ]
  },
  {
   "cell_type": "code",
   "execution_count": 1,
   "metadata": {},
   "outputs": [
    {
     "name": "stdout",
     "output_type": "stream",
     "text": [
      "hello 大家好，我自我介绍下，简单说两句：\n",
      "<class 'tuple'>\n",
      "lisen\n",
      "20\n",
      "北京海淀\n",
      "xiaojing\n",
      "single\n",
      "hello 大家好，我自我介绍下，简单说两句：\n",
      "<class 'tuple'>\n",
      "简单\n"
     ]
    }
   ],
   "source": [
    "# 收集参数案例\n",
    "# 函数模拟一个学生进行自我介绍，但具体内容不清楚\n",
    "# args把它看做一个list（列表）\n",
    "def stu( *args):\n",
    "    print(\"hello 大家好，我自我介绍下，简单说两句：\")\n",
    "    # type函数作用是检测变量类型\n",
    "    print(type(args))\n",
    "    for item in args:\n",
    "        print(item)\n",
    "        \n",
    "stu(\"lisen\",\"20\",\"北京海淀\",\"xiaojing\",\"single\")\n",
    "\n",
    "stu(\"简单\")"
   ]
  },
  {
   "cell_type": "code",
   "execution_count": 7,
   "metadata": {},
   "outputs": [
    {
     "name": "stdout",
     "output_type": "stream",
     "text": [
      "hello 大家好，我自我介绍下，简单说两句：\n"
     ]
    }
   ],
   "source": [
    "# 收集参数案例\n",
    "# 说明收集参数可以不带任何实参调用，此时收集参数为空tuple\n",
    "stu()"
   ]
  },
  {
   "cell_type": "code",
   "execution_count": 8,
   "metadata": {},
   "outputs": [
    {
     "ename": "TypeError",
     "evalue": "stu() got an unexpected keyword argument 'name'",
     "output_type": "error",
     "traceback": [
      "\u001b[1;31m---------------------------------------------------------------------------\u001b[0m",
      "\u001b[1;31mTypeError\u001b[0m                                 Traceback (most recent call last)",
      "\u001b[1;32m<ipython-input-8-30fc43448455>\u001b[0m in \u001b[0;36m<module>\u001b[1;34m()\u001b[0m\n\u001b[0;32m      1\u001b[0m \u001b[1;31m# 如果使用关键字参数格式调用，会出现问题\u001b[0m\u001b[1;33m\u001b[0m\u001b[1;33m\u001b[0m\u001b[0m\n\u001b[1;32m----> 2\u001b[1;33m \u001b[0mstu\u001b[0m\u001b[1;33m(\u001b[0m\u001b[0mname\u001b[0m\u001b[1;33m=\u001b[0m\u001b[1;34m\"lisen\"\u001b[0m\u001b[1;33m)\u001b[0m\u001b[1;33m\u001b[0m\u001b[0m\n\u001b[0m",
      "\u001b[1;31mTypeError\u001b[0m: stu() got an unexpected keyword argument 'name'"
     ]
    }
   ],
   "source": [
    "# 如果使用关键字参数格式调用，会出现问题\n",
    "stu(name=\"lisen\")"
   ]
  },
  {
   "cell_type": "markdown",
   "metadata": {},
   "source": [
    "### 收集参数之关键字收集参数\n",
    "- 把关键字参数按字典格式存入收集参数\n",
    "- 语法：\n",
    "        def func( **kwargs):\n",
    "            func_body\n",
    "            \n",
    "        # 调用：\n",
    "        func(p1=v1, p2=v2, p3=v3....)\n",
    "    - kwargs一般约定俗成\n",
    "    - 调用时，把多余的关键字参数放入kwargs\n",
    "    - 访问kwargs需要按字典格式访问\n",
    "    "
   ]
  },
  {
   "cell_type": "code",
   "execution_count": 12,
   "metadata": {},
   "outputs": [
    {
     "name": "stdout",
     "output_type": "stream",
     "text": [
      "Hello 大家好， 我做一个自我介绍：\n",
      "<class 'dict'>\n",
      "name --- lisen\n",
      "sge --- 19\n",
      "addr --- 北京海淀\n",
      "lover --- 小静\n",
      "work --- teacher\n",
      "@@@@@@@@@@@@@@@@@@@@@@@@@@@@@@@@@@@@@@@@@@@@@@@@@@\n",
      "Hello 大家好， 我做一个自我介绍：\n",
      "<class 'dict'>\n",
      "name --- lisen\n"
     ]
    }
   ],
   "source": [
    "# 收集参数案例\n",
    "# 自我介绍\n",
    "# 调用时需要使用关键字参数调用\n",
    "def stu( **kwargs):\n",
    "    # 在函数体内对于kwargs的使用不用带星号\n",
    "    print(\"Hello 大家好， 我做一个自我介绍：\")\n",
    "    print(type(kwargs))\n",
    "    # 对于字典的访问，python2 和python3有去区别\n",
    "    for k,v in kwargs.items():\n",
    "        # k(变量名称)，v（值）\n",
    "        print(k, \"---\", v)\n",
    "stu(name=\"lisen\", sge=19, addr=\"北京海淀\", lover=\"小静\",work=\"teacher\")\n",
    "\n",
    "print(\"@\" * 50)\n",
    "\n",
    "stu(name=\"lisen\")"
   ]
  },
  {
   "cell_type": "code",
   "execution_count": 13,
   "metadata": {},
   "outputs": [
    {
     "name": "stdout",
     "output_type": "stream",
     "text": [
      "Hello 大家好， 我做一个自我介绍：\n",
      "<class 'dict'>\n"
     ]
    }
   ],
   "source": [
    "# 收集参数可以为空案例\n",
    "stu()"
   ]
  },
  {
   "cell_type": "markdown",
   "metadata": {},
   "source": [
    "### 收集参数混合调用的顺序问题\n",
    "- 收集参数，关键字参数，普通参数可以混合使用\n",
    "- 使用规则是，普通参数和关键字参数优先\n",
    "- 定义时一般找普通参数，关键字参数，收集参数tuple，收集参数dict\n"
   ]
  },
  {
   "cell_type": "code",
   "execution_count": 26,
   "metadata": {},
   "outputs": [
    {
     "name": "stdout",
     "output_type": "stream",
     "text": [
      "Hollo 大家好\n",
      "我叫lisen, 我今年20了\n",
      "我没有爱好\n",
      "....................\n",
      "..............................\n",
      "Hollo 大家好\n",
      "我叫lisen, 我今年20了\n",
      "我的爱好是看电视\n",
      "....................\n",
      "wang\n",
      "liu\n",
      "..............................\n",
      "hobby1 --- 炒菜\n",
      "hobby2 --- 聊天\n"
     ]
    }
   ],
   "source": [
    "# 收集参数混合调用案例\n",
    "# stu模拟一个学生的自我介绍\n",
    "def stu(name, age, *args, hobby=\"没有\", **kwargs):\n",
    "    print(\"Hollo 大家好\")\n",
    "    print(\"我叫{0}, 我今年{1}了\".format(name,age))\n",
    "    if hobby == \"没有\":\n",
    "        print(\"我没有爱好\")\n",
    "    else:\n",
    "        print(\"我的爱好是{0}\".format(hobby))\n",
    "    print(\".\" * 20)\n",
    "    for i in args:\n",
    "        print(i)\n",
    "    print(\".\" * 30)\n",
    "    for k,v in kwargs.items():\n",
    "        print(k, \"---\", v)\n",
    "        \n",
    "# 开始调用函数\n",
    "name = \"lisen\"\n",
    "age = 20\n",
    "# 调用的不同格式\n",
    "stu(name, age)\n",
    "stu(name, age, \"wang\", \"liu\", hobby=\"看电视\", hobby1=\"炒菜\", hobby2=\"聊天\")"
   ]
  },
  {
   "cell_type": "markdown",
   "metadata": {},
   "source": [
    "### 收集参数的解包问题\n",
    "- 把参数放入list或者字典中，直接把list/dict中的值放入收集参数中\n",
    "- 语法：参看案例"
   ]
  },
  {
   "cell_type": "code",
   "execution_count": 5,
   "metadata": {},
   "outputs": [
    {
     "name": "stdout",
     "output_type": "stream",
     "text": [
      "哈哈哈哈哈哈\n",
      "<class 'set'>\n",
      "0\n",
      "{16, 13, 'wangxiaoxiao', 'liuying'}\n",
      "哈哈哈哈哈哈\n",
      "<class 'int'>\n",
      "0\n",
      "16\n",
      "<class 'int'>\n",
      "1\n",
      "13\n",
      "<class 'str'>\n",
      "2\n",
      "wangxiaoxiao\n",
      "<class 'str'>\n",
      "3\n",
      "liuying\n"
     ]
    }
   ],
   "source": [
    "# 收集参数的解包问题\n",
    "\n",
    "def stu(*args):\n",
    "    print(\"哈哈哈哈哈哈\")\n",
    "    # n 用来表示循环次数\n",
    "    # 主要用来调试\n",
    "    n = 0\n",
    "    for i in args:\n",
    "        print(type(i))\n",
    "        print(n)\n",
    "        n += 1\n",
    "        print(i)\n",
    "        \n",
    "l = {\"liuying\",13,16,\"wangxiaoxiao\"}\n",
    "stu(l)\n",
    "# 此时，args的表示形式是字典内一个list类型的元素，即 arg = ({\"liuying\",13,16,\"wangxiaoxiao})\n",
    "# 很显然跟我们最初的想法违背\n",
    "\n",
    "# 此时的调用，我们就需要解包符号，即调用的时候前面加一个星号\n",
    "stu(*l)"
   ]
  },
  {
   "cell_type": "markdown",
   "metadata": {},
   "source": [
    "### 同理，dict类型收集参数一样可以解包，但是\n",
    "- 对dict类型进行解包\n",
    "- 需要用两个星号进行解包"
   ]
  },
  {
   "cell_type": "markdown",
   "metadata": {},
   "source": [
    "# 返回值\n",
    "- 函数和过程是区别\n",
    "    - 有无返回值\n",
    "- 需要用return显示返回内容，\n",
    "- 如果没有返回，则默认返回None\n",
    "- 推荐写法，无论有无返回值，最后都要以return 结束"
   ]
  },
  {
   "cell_type": "code",
   "execution_count": 6,
   "metadata": {},
   "outputs": [
    {
     "name": "stdout",
     "output_type": "stream",
     "text": [
      "有返回值\n",
      "1\n",
      "没有返回值\n",
      "None\n"
     ]
    }
   ],
   "source": [
    "# 返回值示例\n",
    "\n",
    "def func_1():\n",
    "    print(\"有返回值\")\n",
    "    return 1\n",
    "def func_2():\n",
    "    print(\"没有返回值\")\n",
    "    \n",
    "f1 = func_1()\n",
    "print(f1)\n",
    "\n",
    "f2 = func_2()\n",
    "print(f2)"
   ]
  },
  {
   "cell_type": "markdown",
   "metadata": {},
   "source": [
    "# 函数文档\n",
    "- 函数文档的作用是对当前函数提供使用相关参考信息\n",
    "- 文档的写法\n",
    "    - 在函数内部开始的第一行使用三引号字符串定义符\n",
    "    - 一般具有特定格式\n",
    "    - 参看案例\n",
    "- 文档查看\n",
    "    - 使用help函数，形如help（func）\n",
    "    - 使用__doc__,参看案例 "
   ]
  },
  {
   "cell_type": "code",
   "execution_count": 20,
   "metadata": {},
   "outputs": [],
   "source": [
    "# 文档案例\n",
    "# 函数stu是模拟一个学生的自我介绍内容\n",
    "def stu(name,age, *args):\n",
    "    \"\"\"\n",
    "    这是文档1\n",
    "    ---2\n",
    "    ---3\n",
    "    \"\"\"\n",
    "    print(\"This is hanshu stu\")"
   ]
  },
  {
   "cell_type": "code",
   "execution_count": 21,
   "metadata": {},
   "outputs": [
    {
     "name": "stdout",
     "output_type": "stream",
     "text": [
      "Help on function stu in module __main__:\n",
      "\n",
      "stu(name, age, *args)\n",
      "    这是文档1\n",
      "    ---2\n",
      "    ---3\n",
      "\n"
     ]
    },
    {
     "data": {
      "text/plain": [
       "'\\n    这是文档1\\n    ---2\\n    ---3\\n    '"
      ]
     },
     "execution_count": 21,
     "metadata": {},
     "output_type": "execute_result"
    }
   ],
   "source": [
    "# 查看函数文档\n",
    "help(stu)\n",
    "stu.__doc__"
   ]
  },
  {
   "cell_type": "code",
   "execution_count": null,
   "metadata": {},
   "outputs": [],
   "source": []
  }
 ],
 "metadata": {
  "kernelspec": {
   "display_name": "Python 3",
   "language": "python",
   "name": "python3"
  },
  "language_info": {
   "codemirror_mode": {
    "name": "ipython",
    "version": 3
   },
   "file_extension": ".py",
   "mimetype": "text/x-python",
   "name": "python",
   "nbconvert_exporter": "python",
   "pygments_lexer": "ipython3",
   "version": "3.6.5"
  }
 },
 "nbformat": 4,
 "nbformat_minor": 2
}

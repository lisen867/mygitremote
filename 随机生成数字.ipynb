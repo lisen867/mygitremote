{
 "cells": [
  {
   "cell_type": "code",
   "execution_count": null,
   "metadata": {
    "scrolled": true
   },
   "outputs": [],
   "source": [
    "#import random(生成随机数字)#\n",
    "import random\n",
    "answer=random.randint(1,90)\n",
    "n=int(input(\"please input num(1-90):\"))\n",
    "while n!=answer:\n",
    "    if n>=answer:\n",
    "        n = int(input(\"数字大了，请重新输入:\"))\n",
    "    elif n<answer:\n",
    "        n = int(input(\"数字小了，请重新输入：\"))\n",
    "print(\"恭喜！输入正确！\")"
   ]
  },
  {
   "cell_type": "code",
   "execution_count": null,
   "metadata": {},
   "outputs": [],
   "source": []
  }
 ],
 "metadata": {
  "kernelspec": {
   "display_name": "Python 3",
   "language": "python",
   "name": "python3"
  },
  "language_info": {
   "codemirror_mode": {
    "name": "ipython",
    "version": 3
   },
   "file_extension": ".py",
   "mimetype": "text/x-python",
   "name": "python",
   "nbconvert_exporter": "python",
   "pygments_lexer": "ipython3",
   "version": "3.6.5"
  }
 },
 "nbformat": 4,
 "nbformat_minor": 2
}
